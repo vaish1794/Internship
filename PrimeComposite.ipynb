{
 "cells": [
  {
   "cell_type": "code",
   "execution_count": 9,
   "id": "d43f45dc",
   "metadata": {},
   "outputs": [
    {
     "name": "stdout",
     "output_type": "stream",
     "text": [
      "Enter the number6\n"
     ]
    }
   ],
   "source": [
    "#take a number from the user\n",
    "num=int(input(\"Enter the number\"))"
   ]
  },
  {
   "cell_type": "code",
   "execution_count": 10,
   "id": "2a35698e",
   "metadata": {},
   "outputs": [
    {
     "name": "stdout",
     "output_type": "stream",
     "text": [
      "The number is a composite number\n"
     ]
    }
   ],
   "source": [
    "if(num==0 or num==1):\n",
    "    print(\"The number is neither prime or composite\")\n",
    "elif num>1:\n",
    "    for i in range(2,num):\n",
    "        if(num%i==0):\n",
    "            print(\"The number is a composite number\")\n",
    "            break\n",
    "    else:\n",
    "            print(\"The number is a prime number\")\n",
    "else:\n",
    "    print(\"Please enter a positive number\")"
   ]
  },
  {
   "cell_type": "code",
   "execution_count": null,
   "id": "0590e08e",
   "metadata": {},
   "outputs": [],
   "source": []
  }
 ],
 "metadata": {
  "kernelspec": {
   "display_name": "Python 3 (ipykernel)",
   "language": "python",
   "name": "python3"
  },
  "language_info": {
   "codemirror_mode": {
    "name": "ipython",
    "version": 3
   },
   "file_extension": ".py",
   "mimetype": "text/x-python",
   "name": "python",
   "nbconvert_exporter": "python",
   "pygments_lexer": "ipython3",
   "version": "3.9.7"
  }
 },
 "nbformat": 4,
 "nbformat_minor": 5
}
