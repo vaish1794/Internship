{
 "cells": [
  {
   "cell_type": "code",
   "execution_count": 27,
   "id": "e19b2a86",
   "metadata": {},
   "outputs": [],
   "source": [
    "def pythagoras(opposite,adjacent,hypotenuse):\n",
    "        if opposite == str(\"x\"):\n",
    "            return (\"Opposite = \" + str(((hypotenuse**2) - (adjacent**2))**0.5))\n",
    "        elif adjacent == str(\"x\"):\n",
    "            return (\"Adjacent = \" + str(((hypotenuse**2) - (opposite**2))**0.5))\n",
    "        elif hypotenuse == str(\"x\"):\n",
    "            return (\"Hypotenuse = \" + str(((opposite**2) + (adjacent**2))**0.5))\n",
    "        else:\n",
    "            return \"All the three sides are given\"\""
   ]
  },
  {
   "cell_type": "code",
   "execution_count": 28,
   "id": "79202c8d",
   "metadata": {},
   "outputs": [
    {
     "name": "stdout",
     "output_type": "stream",
     "text": [
      "Opposite = 3.0\n"
     ]
    }
   ],
   "source": [
    "print(pythagoras('x',4,5))"
   ]
  },
  {
   "cell_type": "code",
   "execution_count": null,
   "id": "e9b60456",
   "metadata": {},
   "outputs": [],
   "source": []
  }
 ],
 "metadata": {
  "kernelspec": {
   "display_name": "Python 3 (ipykernel)",
   "language": "python",
   "name": "python3"
  },
  "language_info": {
   "codemirror_mode": {
    "name": "ipython",
    "version": 3
   },
   "file_extension": ".py",
   "mimetype": "text/x-python",
   "name": "python",
   "nbconvert_exporter": "python",
   "pygments_lexer": "ipython3",
   "version": "3.9.7"
  }
 },
 "nbformat": 4,
 "nbformat_minor": 5
}
