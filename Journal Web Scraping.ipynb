{
 "cells": [
  {
   "cell_type": "code",
   "execution_count": 31,
   "id": "ae36f9da",
   "metadata": {},
   "outputs": [],
   "source": [
    "import requests\n",
    "from bs4 import BeautifulSoup"
   ]
  },
  {
   "cell_type": "code",
   "execution_count": 32,
   "id": "f6240f93",
   "metadata": {},
   "outputs": [],
   "source": [
    "data=requests.get(\"https://www.journals.elsevier.com/artificial-intelligence/most-downloaded-articles\")\n",
    "bs=BeautifulSoup(data.text,'html.parser')"
   ]
  },
  {
   "cell_type": "code",
   "execution_count": 33,
   "id": "2cf3a620",
   "metadata": {},
   "outputs": [],
   "source": [
    "record=bs.find(\"ul\",class_=\"sc-9zxyh7-0 ffmPq\")"
   ]
  },
  {
   "cell_type": "code",
   "execution_count": 57,
   "id": "767fc072",
   "metadata": {},
   "outputs": [
    {
     "name": "stdout",
     "output_type": "stream",
     "text": [
      "<a class=\"sc-5smygv-0 nrDZj\" href=\"https://www.sciencedirect.com/science/article/pii/S0004370221000862\"><h2 class=\"sc-1qrq3sd-1 MKjKb sc-1nmom32-0 sc-1nmom32-1 hqhUYH ebTA-dR\">Reward is enough</h2></a>\n",
      "<a class=\"sc-5smygv-0 nrDZj\" href=\"https://www.sciencedirect.com/science/article/pii/S0004370221000722\"><h2 class=\"sc-1qrq3sd-1 MKjKb sc-1nmom32-0 sc-1nmom32-1 hqhUYH ebTA-dR\">Making sense of raw input</h2></a>\n",
      "<a class=\"sc-5smygv-0 nrDZj\" href=\"https://www.sciencedirect.com/science/article/pii/S0004370215000910\"><h2 class=\"sc-1qrq3sd-1 MKjKb sc-1nmom32-0 sc-1nmom32-1 hqhUYH ebTA-dR\">Law and logic: A review from an argumentation perspective</h2></a>\n",
      "<a class=\"sc-5smygv-0 nrDZj\" href=\"https://www.sciencedirect.com/science/article/pii/S0004370298000551\"><h2 class=\"sc-1qrq3sd-1 MKjKb sc-1nmom32-0 sc-1nmom32-1 hqhUYH ebTA-dR\">Creativity and artificial intelligence</h2></a>\n",
      "<a class=\"sc-5smygv-0 nrDZj\" href=\"https://www.sciencedirect.com/science/article/pii/S0004370216300790\"><h2 class=\"sc-1qrq3sd-1 MKjKb sc-1nmom32-0 sc-1nmom32-1 hqhUYH ebTA-dR\">Artificial cognition for social human–robot interaction: An implementation</h2></a>\n",
      "<a class=\"sc-5smygv-0 nrDZj\" href=\"https://www.sciencedirect.com/science/article/pii/S0004370218305988\"><h2 class=\"sc-1qrq3sd-1 MKjKb sc-1nmom32-0 sc-1nmom32-1 hqhUYH ebTA-dR\">Explanation in artificial intelligence: Insights from the social sciences</h2></a>\n",
      "<a class=\"sc-5smygv-0 nrDZj\" href=\"https://www.sciencedirect.com/science/article/pii/S0004370220301855\"><h2 class=\"sc-1qrq3sd-1 MKjKb sc-1nmom32-0 sc-1nmom32-1 hqhUYH ebTA-dR\">Making sense of sensory input</h2></a>\n",
      "<a class=\"sc-5smygv-0 nrDZj\" href=\"https://www.sciencedirect.com/science/article/pii/S0004370214001386\"><h2 class=\"sc-1qrq3sd-1 MKjKb sc-1nmom32-0 sc-1nmom32-1 hqhUYH ebTA-dR\">Conflict-based search for optimal multi-agent pathfinding</h2></a>\n",
      "<a class=\"sc-5smygv-0 nrDZj\" href=\"https://www.sciencedirect.com/science/article/pii/S0004370299000521\"><h2 class=\"sc-1qrq3sd-1 MKjKb sc-1nmom32-0 sc-1nmom32-1 hqhUYH ebTA-dR\">Between MDPs and semi-MDPs: A framework for temporal abstraction in reinforcement learning</h2></a>\n",
      "<a class=\"sc-5smygv-0 nrDZj\" href=\"https://www.sciencedirect.com/science/article/pii/S0004370219300116\"><h2 class=\"sc-1qrq3sd-1 MKjKb sc-1nmom32-0 sc-1nmom32-1 hqhUYH ebTA-dR\">The Hanabi challenge: A new frontier for AI research</h2></a>\n",
      "<a class=\"sc-5smygv-0 nrDZj\" href=\"https://www.sciencedirect.com/science/article/pii/S0004370220301533\"><h2 class=\"sc-1qrq3sd-1 MKjKb sc-1nmom32-0 sc-1nmom32-1 hqhUYH ebTA-dR\">Evaluating XAI: A comparison of rule-based and example-based explanations</h2></a>\n",
      "<a class=\"sc-5smygv-0 nrDZj\" href=\"https://www.sciencedirect.com/science/article/pii/S0004370207000793\"><h2 class=\"sc-1qrq3sd-1 MKjKb sc-1nmom32-0 sc-1nmom32-1 hqhUYH ebTA-dR\">Argumentation in artificial intelligence</h2></a>\n",
      "<a class=\"sc-5smygv-0 nrDZj\" href=\"https://www.sciencedirect.com/science/article/pii/S0004370216300285\"><h2 class=\"sc-1qrq3sd-1 MKjKb sc-1nmom32-0 sc-1nmom32-1 hqhUYH ebTA-dR\">Algorithms for computing strategies in two-player simultaneous move games</h2></a>\n",
      "<a class=\"sc-5smygv-0 nrDZj\" href=\"https://www.sciencedirect.com/science/article/pii/S0004370220301958\"><h2 class=\"sc-1qrq3sd-1 MKjKb sc-1nmom32-0 sc-1nmom32-1 hqhUYH ebTA-dR\">Multiple object tracking: A literature review</h2></a>\n",
      "<a class=\"sc-5smygv-0 nrDZj\" href=\"https://www.sciencedirect.com/science/article/pii/S0004370297000635\"><h2 class=\"sc-1qrq3sd-1 MKjKb sc-1nmom32-0 sc-1nmom32-1 hqhUYH ebTA-dR\">Selection of relevant features and examples in machine learning</h2></a>\n",
      "<a class=\"sc-5smygv-0 nrDZj\" href=\"https://www.sciencedirect.com/science/article/pii/S0004370221000515\"><h2 class=\"sc-1qrq3sd-1 MKjKb sc-1nmom32-0 sc-1nmom32-1 hqhUYH ebTA-dR\">A survey of inverse reinforcement learning: Challenges, methods and progress</h2></a>\n",
      "<a class=\"sc-5smygv-0 nrDZj\" href=\"https://www.sciencedirect.com/science/article/pii/S0004370221000539\"><h2 class=\"sc-1qrq3sd-1 MKjKb sc-1nmom32-0 sc-1nmom32-1 hqhUYH ebTA-dR\">Explaining individual predictions when features are dependent: More accurate approximations to Shapley values</h2></a>\n",
      "<a class=\"sc-5smygv-0 nrDZj\" href=\"https://www.sciencedirect.com/science/article/pii/S0004370221000096\"><h2 class=\"sc-1qrq3sd-1 MKjKb sc-1nmom32-0 sc-1nmom32-1 hqhUYH ebTA-dR\">A review of possible effects of cognitive biases on interpretation of rule-based machine learning models</h2></a>\n",
      "<a class=\"sc-5smygv-0 nrDZj\" href=\"https://www.sciencedirect.com/science/article/pii/S0004370216300868\"><h2 class=\"sc-1qrq3sd-1 MKjKb sc-1nmom32-0 sc-1nmom32-1 hqhUYH ebTA-dR\">Integrating social power into the decision-making of cognitive agents</h2></a>\n",
      "<a class=\"sc-5smygv-0 nrDZj\" href=\"https://www.sciencedirect.com/science/article/pii/S0004370221000588\"><h2 class=\"sc-1qrq3sd-1 MKjKb sc-1nmom32-0 sc-1nmom32-1 hqhUYH ebTA-dR\">“That's (not) the output I expected!” On the role of end user expectations in creating explanations of AI systems</h2></a>\n",
      "<a class=\"sc-5smygv-0 nrDZj\" href=\"https://www.sciencedirect.com/science/article/pii/S0004370221000102\"><h2 class=\"sc-1qrq3sd-1 MKjKb sc-1nmom32-0 sc-1nmom32-1 hqhUYH ebTA-dR\">Explaining black-box classifiers using post-hoc explanations-by-example: The effect of explanations and error-rates in XAI user studies</h2></a>\n",
      "<a class=\"sc-5smygv-0 nrDZj\" href=\"https://www.sciencedirect.com/science/article/pii/S0004370213001082\"><h2 class=\"sc-1qrq3sd-1 MKjKb sc-1nmom32-0 sc-1nmom32-1 hqhUYH ebTA-dR\">Algorithm runtime prediction: Methods &amp; evaluation</h2></a>\n",
      "<a class=\"sc-5smygv-0 nrDZj\" href=\"https://www.sciencedirect.com/science/article/pii/S000437029700043X\"><h2 class=\"sc-1qrq3sd-1 MKjKb sc-1nmom32-0 sc-1nmom32-1 hqhUYH ebTA-dR\">Wrappers for feature subset selection</h2></a>\n",
      "<a class=\"sc-5smygv-0 nrDZj\" href=\"https://www.sciencedirect.com/science/article/pii/S0004370221000734\"><h2 class=\"sc-1qrq3sd-1 MKjKb sc-1nmom32-0 sc-1nmom32-1 hqhUYH ebTA-dR\">Commonsense visual sensemaking for autonomous driving – On generalised neurosymbolic online abduction integrating vision and semantics</h2></a>\n",
      "<a class=\"sc-5smygv-0 nrDZj\" href=\"https://www.sciencedirect.com/science/article/pii/S0004370209001398\"><h2 class=\"sc-1qrq3sd-1 MKjKb sc-1nmom32-0 sc-1nmom32-1 hqhUYH ebTA-dR\">Quantum computation, quantum theory and AI</h2></a>\n"
     ]
    }
   ],
   "source": [
    "for i in record:\n",
    "    #title=(i.find(\"a\", class_=\"sc-5smygv-0 nrDZj\")).text\n",
    "    #author=(i.find(\"span\",class_=\"sc-1w3fpd7-0 pgLAT\")).text\n",
    "    #date=(i.find(\"span\", class_=\"sc-1thf9ly-2 bKddwo\")).text\n",
    "    url=(i.find(\"a\",class_=\"sc-5smygv-0 nrDZj\"))\n",
    "    print(url)\n",
    "    \n",
    "    "
   ]
  },
  {
   "cell_type": "code",
   "execution_count": null,
   "id": "a9db30df",
   "metadata": {},
   "outputs": [],
   "source": []
  }
 ],
 "metadata": {
  "kernelspec": {
   "display_name": "Python 3 (ipykernel)",
   "language": "python",
   "name": "python3"
  },
  "language_info": {
   "codemirror_mode": {
    "name": "ipython",
    "version": 3
   },
   "file_extension": ".py",
   "mimetype": "text/x-python",
   "name": "python",
   "nbconvert_exporter": "python",
   "pygments_lexer": "ipython3",
   "version": "3.9.7"
  }
 },
 "nbformat": 4,
 "nbformat_minor": 5
}
