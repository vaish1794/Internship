{
 "cells": [
  {
   "cell_type": "code",
   "execution_count": null,
   "id": "9135b11f",
   "metadata": {},
   "outputs": [],
   "source": [
    "str1=input(\"Please enter a string: \\t\")"
   ]
  },
  {
   "cell_type": "code",
   "execution_count": null,
   "id": "faf4e608",
   "metadata": {},
   "outputs": [],
   "source": [
    "dict={}\n",
    "\n",
    "for c in str1:\n",
    "    if c in dict:\n",
    "        dict[c]=dict[c]+1\n",
    "    else:\n",
    "        dict[c]=1\n",
    "        \n",
    "print(dict)\n",
    "        "
   ]
  }
 ],
 "metadata": {
  "kernelspec": {
   "display_name": "Python 3 (ipykernel)",
   "language": "python",
   "name": "python3"
  },
  "language_info": {
   "codemirror_mode": {
    "name": "ipython",
    "version": 3
   },
   "file_extension": ".py",
   "mimetype": "text/x-python",
   "name": "python",
   "nbconvert_exporter": "python",
   "pygments_lexer": "ipython3",
   "version": "3.9.7"
  }
 },
 "nbformat": 4,
 "nbformat_minor": 5
}
