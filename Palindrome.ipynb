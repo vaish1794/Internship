{
 "cells": [
  {
   "cell_type": "code",
   "execution_count": null,
   "id": "9f3da6a9",
   "metadata": {},
   "outputs": [],
   "source": [
    "str1=input(\"Please enter the string to check whether it is palindrome or not\", \\t)\n",
    "str1=str1.casefold()"
   ]
  },
  {
   "cell_type": "code",
   "execution_count": null,
   "id": "a97684dd",
   "metadata": {},
   "outputs": [],
   "source": [
    "revstr=reversed(str1)"
   ]
  },
  {
   "cell_type": "code",
   "execution_count": null,
   "id": "6daac724",
   "metadata": {},
   "outputs": [],
   "source": [
    "if list(revstr)==list(str1):\n",
    "    print(\"The entered string is Palindrome\")\n",
    "else:\n",
    "    print(\"The entered string is not palindrome\")"
   ]
  },
  {
   "cell_type": "code",
   "execution_count": null,
   "id": "71ec6375",
   "metadata": {},
   "outputs": [],
   "source": []
  }
 ],
 "metadata": {
  "kernelspec": {
   "display_name": "Python 3 (ipykernel)",
   "language": "python",
   "name": "python3"
  },
  "language_info": {
   "codemirror_mode": {
    "name": "ipython",
    "version": 3
   },
   "file_extension": ".py",
   "mimetype": "text/x-python",
   "name": "python",
   "nbconvert_exporter": "python",
   "pygments_lexer": "ipython3",
   "version": "3.9.7"
  }
 },
 "nbformat": 4,
 "nbformat_minor": 5
}
