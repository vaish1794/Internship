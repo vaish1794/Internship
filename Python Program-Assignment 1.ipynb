{
 "cells": [
  {
   "cell_type": "code",
   "execution_count": 1,
   "id": "286f2b0a",
   "metadata": {},
   "outputs": [],
   "source": [
    "#1 Factorial Program\n",
    "def factorial(x):\n",
    "    if x==1:\n",
    "        return 1\n",
    "    else:\n",
    "        return (x*factorial(x-1))"
   ]
  },
  {
   "cell_type": "code",
   "execution_count": 2,
   "id": "b3eab421",
   "metadata": {},
   "outputs": [
    {
     "name": "stdout",
     "output_type": "stream",
     "text": [
      "Enter a number:5\n",
      "The factorial of 5 is 120\n"
     ]
    }
   ],
   "source": [
    "num=int(input(\"Enter a number:\"))\n",
    "result=factorial(num)\n",
    "print(\"The factorial of\", num,\"is\",result)"
   ]
  },
  {
   "cell_type": "code",
   "execution_count": 3,
   "id": "8d3d56c2",
   "metadata": {},
   "outputs": [
    {
     "name": "stdout",
     "output_type": "stream",
     "text": [
      "Enter the number7\n"
     ]
    }
   ],
   "source": [
    "#2 Prime-Composite Program\n",
    "#take a number from the user\n",
    "num=int(input(\"Enter the number\"))"
   ]
  },
  {
   "cell_type": "code",
   "execution_count": 4,
   "id": "e5a57677",
   "metadata": {},
   "outputs": [
    {
     "name": "stdout",
     "output_type": "stream",
     "text": [
      "The number is a prime number\n"
     ]
    }
   ],
   "source": [
    "if(num==0 or num==1):\n",
    "    print(\"The number is neither prime or composite\")\n",
    "elif num>1:\n",
    "    for i in range(2,num):\n",
    "        if(num%i==0):\n",
    "            print(\"The number is a composite number\")\n",
    "            break\n",
    "    else:\n",
    "            print(\"The number is a prime number\")\n",
    "else:\n",
    "    print(\"Please enter a positive number\")"
   ]
  },
  {
   "cell_type": "code",
   "execution_count": 1,
   "id": "9e278d05",
   "metadata": {},
   "outputs": [
    {
     "name": "stdout",
     "output_type": "stream",
     "text": [
      "Please enter the string to check whether it is palindrome or notlevel\n"
     ]
    }
   ],
   "source": [
    "#3 Palindrome Program\n",
    "str1=input(\"Please enter the string to check whether it is palindrome or not\")\n",
    "str1=str1.casefold()"
   ]
  },
  {
   "cell_type": "code",
   "execution_count": 2,
   "id": "3d075f1a",
   "metadata": {},
   "outputs": [],
   "source": [
    "revstr=reversed(str1)"
   ]
  },
  {
   "cell_type": "code",
   "execution_count": 3,
   "id": "a32424c2",
   "metadata": {},
   "outputs": [
    {
     "name": "stdout",
     "output_type": "stream",
     "text": [
      "The entered string is Palindrome\n"
     ]
    }
   ],
   "source": [
    "if list(revstr)==list(str1):\n",
    "    print(\"The entered string is Palindrome\")\n",
    "else:\n",
    "    print(\"The entered string is not palindrome\")"
   ]
  },
  {
   "cell_type": "code",
   "execution_count": 5,
   "id": "cf81af0c",
   "metadata": {},
   "outputs": [],
   "source": [
    "#4 Third side of Right Angle Triangle Program\n",
    "def pythagoras(opposite,adjacent,hypotenuse):\n",
    "        if opposite == str(\"x\"):\n",
    "            return (\"Opposite = \" + str(((hypotenuse**2) - (adjacent**2))**0.5))\n",
    "        elif adjacent == str(\"x\"):\n",
    "            return (\"Adjacent = \" + str(((hypotenuse**2) - (opposite**2))**0.5))\n",
    "        elif hypotenuse == str(\"x\"):\n",
    "            return (\"Hypotenuse = \" + str(((opposite**2) + (adjacent**2))**0.5))\n",
    "        else:\n",
    "            return \"All the three sides are given\""
   ]
  },
  {
   "cell_type": "code",
   "execution_count": 6,
   "id": "07397849",
   "metadata": {},
   "outputs": [
    {
     "name": "stdout",
     "output_type": "stream",
     "text": [
      "Opposite = 3.0\n"
     ]
    }
   ],
   "source": [
    "print(pythagoras('x',4,5))"
   ]
  },
  {
   "cell_type": "code",
   "execution_count": 7,
   "id": "cb44e35c",
   "metadata": {},
   "outputs": [
    {
     "name": "stdout",
     "output_type": "stream",
     "text": [
      "Please enter a string: \tmayonnaise\n"
     ]
    }
   ],
   "source": [
    "#5 Frequency of characters in string Program\n",
    "str1=input(\"Please enter a string: \\t\")"
   ]
  },
  {
   "cell_type": "code",
   "execution_count": 8,
   "id": "d646e8d4",
   "metadata": {},
   "outputs": [
    {
     "name": "stdout",
     "output_type": "stream",
     "text": [
      "{'m': 1, 'a': 2, 'y': 1, 'o': 1, 'n': 2, 'i': 1, 's': 1, 'e': 1}\n"
     ]
    }
   ],
   "source": [
    "dict={}\n",
    "\n",
    "for c in str1:\n",
    "    if c in dict:\n",
    "        dict[c]=dict[c]+1\n",
    "    else:\n",
    "        dict[c]=1\n",
    "        \n",
    "print(dict)"
   ]
  },
  {
   "cell_type": "code",
   "execution_count": null,
   "id": "21a459ce",
   "metadata": {},
   "outputs": [],
   "source": []
  }
 ],
 "metadata": {
  "kernelspec": {
   "display_name": "Python 3 (ipykernel)",
   "language": "python",
   "name": "python3"
  },
  "language_info": {
   "codemirror_mode": {
    "name": "ipython",
    "version": 3
   },
   "file_extension": ".py",
   "mimetype": "text/x-python",
   "name": "python",
   "nbconvert_exporter": "python",
   "pygments_lexer": "ipython3",
   "version": "3.9.7"
  }
 },
 "nbformat": 4,
 "nbformat_minor": 5
}
